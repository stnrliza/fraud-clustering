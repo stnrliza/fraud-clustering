{
  "nbformat": 4,
  "nbformat_minor": 0,
  "metadata": {
    "colab": {
      "provenance": []
    },
    "kernelspec": {
      "name": "python3",
      "display_name": "Python 3"
    },
    "language_info": {
      "name": "python"
    }
  },
  "cells": [
    {
      "cell_type": "markdown",
      "source": [
        "# **Penting**\n",
        "- Pastikan Anda melakukan Run All sebelum mengirimkan submission untuk memastikan seluruh cell berjalan dengan baik.\n",
        "- Hapus simbol pagar (#) jika Anda menerapkan kriteria tambahan\n",
        "- Biarkan simbol pagar (#) jika Anda tidak menerapkan kriteria tambahan"
      ],
      "metadata": {
        "id": "0tvAKGat01Sd"
      }
    },
    {
      "cell_type": "markdown",
      "source": [
        "# **1. Import Library**\n",
        "Pada tahap ini, Anda perlu mengimpor beberapa pustaka (library) Python yang dibutuhkan untuk analisis data dan pembangunan model machine learning."
      ],
      "metadata": {
        "id": "fKADPWcFKlj3"
      }
    },
    {
      "cell_type": "code",
      "source": [
        "import pandas as pd\n",
        "import numpy as np\n",
        "import matplotlib.pyplot as plt\n",
        "import seaborn as sns\n",
        "import joblib\n",
        "\n",
        "from sklearn.model_selection import train_test_split\n",
        "from sklearn.tree import DecisionTreeClassifier\n",
        "from sklearn.ensemble import RandomForestClassifier, GradientBoostingClassifier\n",
        "from sklearn.metrics import accuracy_score, precision_score, recall_score, f1_score, classification_report\n",
        "from sklearn.model_selection import GridSearchCV"
      ],
      "metadata": {
        "id": "BlmvjLY9M4Yj"
      },
      "execution_count": 12,
      "outputs": []
    },
    {
      "cell_type": "markdown",
      "source": [
        "# **2. Memuat Dataset dari Hasil Clustering**\n",
        "Memuat dataset hasil clustering dari file CSV ke dalam variabel DataFrame."
      ],
      "metadata": {
        "id": "f3YIEnAFKrKL"
      }
    },
    {
      "cell_type": "code",
      "source": [
        "# Gunakan dataset hasil clustering yang memiliki fitur Target\n",
        "# Silakan gunakan dataset data_clustering jika tidak menerapkan Interpretasi Hasil Clustering [Advanced]\n",
        "# Silakan gunakan dataset data_clustering_inverse jika menerapkan Interpretasi Hasil Clustering [Advanced]\n",
        "\n",
        "# Data clustering inverse ditaruh di Google Drive berikut\n",
        "google_drive_link = 'https://drive.google.com/file/d/17EUYPmrR-xfwqwh8worH16ZZGPZKqkkL/view?usp=sharing'\n",
        "\n",
        "# Ekstrak ID file dari link Google Drive\n",
        "file_id = google_drive_link.split('/')[-2]\n",
        "\n",
        "url = f'https://drive.google.com/uc?id={file_id}'\n",
        "\n",
        "# Muat dataset\n",
        "df = pd.read_csv(url)"
      ],
      "metadata": {
        "id": "GHCGNTyrM5fS"
      },
      "execution_count": 13,
      "outputs": []
    },
    {
      "cell_type": "code",
      "source": [
        "# Tampilkan 5 baris pertama dengan function head.\n",
        "df.head()"
      ],
      "metadata": {
        "id": "bCsep0NZ0LUf",
        "colab": {
          "base_uri": "https://localhost:8080/",
          "height": 255
        },
        "outputId": "301c0935-b605-4d50-e5bf-f0fb9c5e50b3"
      },
      "execution_count": 14,
      "outputs": [
        {
          "output_type": "execute_result",
          "data": {
            "text/plain": [
              "   TransactionAmount  CustomerAge  TransactionDuration  LoginAttempts  \\\n",
              "0              14.09         70.0                 81.0            1.0   \n",
              "1             376.24         68.0                141.0            1.0   \n",
              "2             126.29         19.0                 56.0            1.0   \n",
              "3             184.50         26.0                 25.0            1.0   \n",
              "4              92.15         18.0                172.0            1.0   \n",
              "\n",
              "   AccountBalance  TransactionType_Debit  Location_Atlanta  Location_Austin  \\\n",
              "0         5112.21                   True             False            False   \n",
              "1        13758.91                   True             False            False   \n",
              "2         1122.35                   True             False            False   \n",
              "3         8569.06                   True             False            False   \n",
              "4          781.68                   True             False            False   \n",
              "\n",
              "   Location_Baltimore  Location_Boston  ...  TransactionAmount_Bin_Small  \\\n",
              "0               False            False  ...                        False   \n",
              "1               False            False  ...                        False   \n",
              "2               False            False  ...                         True   \n",
              "3               False            False  ...                        False   \n",
              "4               False            False  ...                         True   \n",
              "\n",
              "   TransactionAmount_Bin_Medium  TransactionAmount_Bin_Large  \\\n",
              "0                         False                        False   \n",
              "1                         False                         True   \n",
              "2                         False                        False   \n",
              "3                          True                        False   \n",
              "4                         False                        False   \n",
              "\n",
              "   TransactionAmount_Bin_Very_Large  LoginAttempts_Bin_Attempt_1  Hour  \\\n",
              "0                             False                        False     8   \n",
              "1                             False                        False     8   \n",
              "2                             False                        False     8   \n",
              "3                             False                        False     8   \n",
              "4                             False                        False     8   \n",
              "\n",
              "   DayOfWeek  IsWeekend  TransactionHour  Target  \n",
              "0          0          0               16       1  \n",
              "1          0          0               16       6  \n",
              "2          0          0               18       5  \n",
              "3          0          0               16       4  \n",
              "4          0          0               17       5  \n",
              "\n",
              "[5 rows x 63 columns]"
            ],
            "text/html": [
              "\n",
              "  <div id=\"df-9c94653e-bd48-4e1e-9196-17d4e7e6e1b6\" class=\"colab-df-container\">\n",
              "    <div>\n",
              "<style scoped>\n",
              "    .dataframe tbody tr th:only-of-type {\n",
              "        vertical-align: middle;\n",
              "    }\n",
              "\n",
              "    .dataframe tbody tr th {\n",
              "        vertical-align: top;\n",
              "    }\n",
              "\n",
              "    .dataframe thead th {\n",
              "        text-align: right;\n",
              "    }\n",
              "</style>\n",
              "<table border=\"1\" class=\"dataframe\">\n",
              "  <thead>\n",
              "    <tr style=\"text-align: right;\">\n",
              "      <th></th>\n",
              "      <th>TransactionAmount</th>\n",
              "      <th>CustomerAge</th>\n",
              "      <th>TransactionDuration</th>\n",
              "      <th>LoginAttempts</th>\n",
              "      <th>AccountBalance</th>\n",
              "      <th>TransactionType_Debit</th>\n",
              "      <th>Location_Atlanta</th>\n",
              "      <th>Location_Austin</th>\n",
              "      <th>Location_Baltimore</th>\n",
              "      <th>Location_Boston</th>\n",
              "      <th>...</th>\n",
              "      <th>TransactionAmount_Bin_Small</th>\n",
              "      <th>TransactionAmount_Bin_Medium</th>\n",
              "      <th>TransactionAmount_Bin_Large</th>\n",
              "      <th>TransactionAmount_Bin_Very_Large</th>\n",
              "      <th>LoginAttempts_Bin_Attempt_1</th>\n",
              "      <th>Hour</th>\n",
              "      <th>DayOfWeek</th>\n",
              "      <th>IsWeekend</th>\n",
              "      <th>TransactionHour</th>\n",
              "      <th>Target</th>\n",
              "    </tr>\n",
              "  </thead>\n",
              "  <tbody>\n",
              "    <tr>\n",
              "      <th>0</th>\n",
              "      <td>14.09</td>\n",
              "      <td>70.0</td>\n",
              "      <td>81.0</td>\n",
              "      <td>1.0</td>\n",
              "      <td>5112.21</td>\n",
              "      <td>True</td>\n",
              "      <td>False</td>\n",
              "      <td>False</td>\n",
              "      <td>False</td>\n",
              "      <td>False</td>\n",
              "      <td>...</td>\n",
              "      <td>False</td>\n",
              "      <td>False</td>\n",
              "      <td>False</td>\n",
              "      <td>False</td>\n",
              "      <td>False</td>\n",
              "      <td>8</td>\n",
              "      <td>0</td>\n",
              "      <td>0</td>\n",
              "      <td>16</td>\n",
              "      <td>1</td>\n",
              "    </tr>\n",
              "    <tr>\n",
              "      <th>1</th>\n",
              "      <td>376.24</td>\n",
              "      <td>68.0</td>\n",
              "      <td>141.0</td>\n",
              "      <td>1.0</td>\n",
              "      <td>13758.91</td>\n",
              "      <td>True</td>\n",
              "      <td>False</td>\n",
              "      <td>False</td>\n",
              "      <td>False</td>\n",
              "      <td>False</td>\n",
              "      <td>...</td>\n",
              "      <td>False</td>\n",
              "      <td>False</td>\n",
              "      <td>True</td>\n",
              "      <td>False</td>\n",
              "      <td>False</td>\n",
              "      <td>8</td>\n",
              "      <td>0</td>\n",
              "      <td>0</td>\n",
              "      <td>16</td>\n",
              "      <td>6</td>\n",
              "    </tr>\n",
              "    <tr>\n",
              "      <th>2</th>\n",
              "      <td>126.29</td>\n",
              "      <td>19.0</td>\n",
              "      <td>56.0</td>\n",
              "      <td>1.0</td>\n",
              "      <td>1122.35</td>\n",
              "      <td>True</td>\n",
              "      <td>False</td>\n",
              "      <td>False</td>\n",
              "      <td>False</td>\n",
              "      <td>False</td>\n",
              "      <td>...</td>\n",
              "      <td>True</td>\n",
              "      <td>False</td>\n",
              "      <td>False</td>\n",
              "      <td>False</td>\n",
              "      <td>False</td>\n",
              "      <td>8</td>\n",
              "      <td>0</td>\n",
              "      <td>0</td>\n",
              "      <td>18</td>\n",
              "      <td>5</td>\n",
              "    </tr>\n",
              "    <tr>\n",
              "      <th>3</th>\n",
              "      <td>184.50</td>\n",
              "      <td>26.0</td>\n",
              "      <td>25.0</td>\n",
              "      <td>1.0</td>\n",
              "      <td>8569.06</td>\n",
              "      <td>True</td>\n",
              "      <td>False</td>\n",
              "      <td>False</td>\n",
              "      <td>False</td>\n",
              "      <td>False</td>\n",
              "      <td>...</td>\n",
              "      <td>False</td>\n",
              "      <td>True</td>\n",
              "      <td>False</td>\n",
              "      <td>False</td>\n",
              "      <td>False</td>\n",
              "      <td>8</td>\n",
              "      <td>0</td>\n",
              "      <td>0</td>\n",
              "      <td>16</td>\n",
              "      <td>4</td>\n",
              "    </tr>\n",
              "    <tr>\n",
              "      <th>4</th>\n",
              "      <td>92.15</td>\n",
              "      <td>18.0</td>\n",
              "      <td>172.0</td>\n",
              "      <td>1.0</td>\n",
              "      <td>781.68</td>\n",
              "      <td>True</td>\n",
              "      <td>False</td>\n",
              "      <td>False</td>\n",
              "      <td>False</td>\n",
              "      <td>False</td>\n",
              "      <td>...</td>\n",
              "      <td>True</td>\n",
              "      <td>False</td>\n",
              "      <td>False</td>\n",
              "      <td>False</td>\n",
              "      <td>False</td>\n",
              "      <td>8</td>\n",
              "      <td>0</td>\n",
              "      <td>0</td>\n",
              "      <td>17</td>\n",
              "      <td>5</td>\n",
              "    </tr>\n",
              "  </tbody>\n",
              "</table>\n",
              "<p>5 rows × 63 columns</p>\n",
              "</div>\n",
              "    <div class=\"colab-df-buttons\">\n",
              "\n",
              "  <div class=\"colab-df-container\">\n",
              "    <button class=\"colab-df-convert\" onclick=\"convertToInteractive('df-9c94653e-bd48-4e1e-9196-17d4e7e6e1b6')\"\n",
              "            title=\"Convert this dataframe to an interactive table.\"\n",
              "            style=\"display:none;\">\n",
              "\n",
              "  <svg xmlns=\"http://www.w3.org/2000/svg\" height=\"24px\" viewBox=\"0 -960 960 960\">\n",
              "    <path d=\"M120-120v-720h720v720H120Zm60-500h600v-160H180v160Zm220 220h160v-160H400v160Zm0 220h160v-160H400v160ZM180-400h160v-160H180v160Zm440 0h160v-160H620v160ZM180-180h160v-160H180v160Zm440 0h160v-160H620v160Z\"/>\n",
              "  </svg>\n",
              "    </button>\n",
              "\n",
              "  <style>\n",
              "    .colab-df-container {\n",
              "      display:flex;\n",
              "      gap: 12px;\n",
              "    }\n",
              "\n",
              "    .colab-df-convert {\n",
              "      background-color: #E8F0FE;\n",
              "      border: none;\n",
              "      border-radius: 50%;\n",
              "      cursor: pointer;\n",
              "      display: none;\n",
              "      fill: #1967D2;\n",
              "      height: 32px;\n",
              "      padding: 0 0 0 0;\n",
              "      width: 32px;\n",
              "    }\n",
              "\n",
              "    .colab-df-convert:hover {\n",
              "      background-color: #E2EBFA;\n",
              "      box-shadow: 0px 1px 2px rgba(60, 64, 67, 0.3), 0px 1px 3px 1px rgba(60, 64, 67, 0.15);\n",
              "      fill: #174EA6;\n",
              "    }\n",
              "\n",
              "    .colab-df-buttons div {\n",
              "      margin-bottom: 4px;\n",
              "    }\n",
              "\n",
              "    [theme=dark] .colab-df-convert {\n",
              "      background-color: #3B4455;\n",
              "      fill: #D2E3FC;\n",
              "    }\n",
              "\n",
              "    [theme=dark] .colab-df-convert:hover {\n",
              "      background-color: #434B5C;\n",
              "      box-shadow: 0px 1px 3px 1px rgba(0, 0, 0, 0.15);\n",
              "      filter: drop-shadow(0px 1px 2px rgba(0, 0, 0, 0.3));\n",
              "      fill: #FFFFFF;\n",
              "    }\n",
              "  </style>\n",
              "\n",
              "    <script>\n",
              "      const buttonEl =\n",
              "        document.querySelector('#df-9c94653e-bd48-4e1e-9196-17d4e7e6e1b6 button.colab-df-convert');\n",
              "      buttonEl.style.display =\n",
              "        google.colab.kernel.accessAllowed ? 'block' : 'none';\n",
              "\n",
              "      async function convertToInteractive(key) {\n",
              "        const element = document.querySelector('#df-9c94653e-bd48-4e1e-9196-17d4e7e6e1b6');\n",
              "        const dataTable =\n",
              "          await google.colab.kernel.invokeFunction('convertToInteractive',\n",
              "                                                    [key], {});\n",
              "        if (!dataTable) return;\n",
              "\n",
              "        const docLinkHtml = 'Like what you see? Visit the ' +\n",
              "          '<a target=\"_blank\" href=https://colab.research.google.com/notebooks/data_table.ipynb>data table notebook</a>'\n",
              "          + ' to learn more about interactive tables.';\n",
              "        element.innerHTML = '';\n",
              "        dataTable['output_type'] = 'display_data';\n",
              "        await google.colab.output.renderOutput(dataTable, element);\n",
              "        const docLink = document.createElement('div');\n",
              "        docLink.innerHTML = docLinkHtml;\n",
              "        element.appendChild(docLink);\n",
              "      }\n",
              "    </script>\n",
              "  </div>\n",
              "\n",
              "\n",
              "    <div id=\"df-7a7777c1-4da0-4492-a219-6eb884dd6804\">\n",
              "      <button class=\"colab-df-quickchart\" onclick=\"quickchart('df-7a7777c1-4da0-4492-a219-6eb884dd6804')\"\n",
              "                title=\"Suggest charts\"\n",
              "                style=\"display:none;\">\n",
              "\n",
              "<svg xmlns=\"http://www.w3.org/2000/svg\" height=\"24px\"viewBox=\"0 0 24 24\"\n",
              "     width=\"24px\">\n",
              "    <g>\n",
              "        <path d=\"M19 3H5c-1.1 0-2 .9-2 2v14c0 1.1.9 2 2 2h14c1.1 0 2-.9 2-2V5c0-1.1-.9-2-2-2zM9 17H7v-7h2v7zm4 0h-2V7h2v10zm4 0h-2v-4h2v4z\"/>\n",
              "    </g>\n",
              "</svg>\n",
              "      </button>\n",
              "\n",
              "<style>\n",
              "  .colab-df-quickchart {\n",
              "      --bg-color: #E8F0FE;\n",
              "      --fill-color: #1967D2;\n",
              "      --hover-bg-color: #E2EBFA;\n",
              "      --hover-fill-color: #174EA6;\n",
              "      --disabled-fill-color: #AAA;\n",
              "      --disabled-bg-color: #DDD;\n",
              "  }\n",
              "\n",
              "  [theme=dark] .colab-df-quickchart {\n",
              "      --bg-color: #3B4455;\n",
              "      --fill-color: #D2E3FC;\n",
              "      --hover-bg-color: #434B5C;\n",
              "      --hover-fill-color: #FFFFFF;\n",
              "      --disabled-bg-color: #3B4455;\n",
              "      --disabled-fill-color: #666;\n",
              "  }\n",
              "\n",
              "  .colab-df-quickchart {\n",
              "    background-color: var(--bg-color);\n",
              "    border: none;\n",
              "    border-radius: 50%;\n",
              "    cursor: pointer;\n",
              "    display: none;\n",
              "    fill: var(--fill-color);\n",
              "    height: 32px;\n",
              "    padding: 0;\n",
              "    width: 32px;\n",
              "  }\n",
              "\n",
              "  .colab-df-quickchart:hover {\n",
              "    background-color: var(--hover-bg-color);\n",
              "    box-shadow: 0 1px 2px rgba(60, 64, 67, 0.3), 0 1px 3px 1px rgba(60, 64, 67, 0.15);\n",
              "    fill: var(--button-hover-fill-color);\n",
              "  }\n",
              "\n",
              "  .colab-df-quickchart-complete:disabled,\n",
              "  .colab-df-quickchart-complete:disabled:hover {\n",
              "    background-color: var(--disabled-bg-color);\n",
              "    fill: var(--disabled-fill-color);\n",
              "    box-shadow: none;\n",
              "  }\n",
              "\n",
              "  .colab-df-spinner {\n",
              "    border: 2px solid var(--fill-color);\n",
              "    border-color: transparent;\n",
              "    border-bottom-color: var(--fill-color);\n",
              "    animation:\n",
              "      spin 1s steps(1) infinite;\n",
              "  }\n",
              "\n",
              "  @keyframes spin {\n",
              "    0% {\n",
              "      border-color: transparent;\n",
              "      border-bottom-color: var(--fill-color);\n",
              "      border-left-color: var(--fill-color);\n",
              "    }\n",
              "    20% {\n",
              "      border-color: transparent;\n",
              "      border-left-color: var(--fill-color);\n",
              "      border-top-color: var(--fill-color);\n",
              "    }\n",
              "    30% {\n",
              "      border-color: transparent;\n",
              "      border-left-color: var(--fill-color);\n",
              "      border-top-color: var(--fill-color);\n",
              "      border-right-color: var(--fill-color);\n",
              "    }\n",
              "    40% {\n",
              "      border-color: transparent;\n",
              "      border-right-color: var(--fill-color);\n",
              "      border-top-color: var(--fill-color);\n",
              "    }\n",
              "    60% {\n",
              "      border-color: transparent;\n",
              "      border-right-color: var(--fill-color);\n",
              "    }\n",
              "    80% {\n",
              "      border-color: transparent;\n",
              "      border-right-color: var(--fill-color);\n",
              "      border-bottom-color: var(--fill-color);\n",
              "    }\n",
              "    90% {\n",
              "      border-color: transparent;\n",
              "      border-bottom-color: var(--fill-color);\n",
              "    }\n",
              "  }\n",
              "</style>\n",
              "\n",
              "      <script>\n",
              "        async function quickchart(key) {\n",
              "          const quickchartButtonEl =\n",
              "            document.querySelector('#' + key + ' button');\n",
              "          quickchartButtonEl.disabled = true;  // To prevent multiple clicks.\n",
              "          quickchartButtonEl.classList.add('colab-df-spinner');\n",
              "          try {\n",
              "            const charts = await google.colab.kernel.invokeFunction(\n",
              "                'suggestCharts', [key], {});\n",
              "          } catch (error) {\n",
              "            console.error('Error during call to suggestCharts:', error);\n",
              "          }\n",
              "          quickchartButtonEl.classList.remove('colab-df-spinner');\n",
              "          quickchartButtonEl.classList.add('colab-df-quickchart-complete');\n",
              "        }\n",
              "        (() => {\n",
              "          let quickchartButtonEl =\n",
              "            document.querySelector('#df-7a7777c1-4da0-4492-a219-6eb884dd6804 button');\n",
              "          quickchartButtonEl.style.display =\n",
              "            google.colab.kernel.accessAllowed ? 'block' : 'none';\n",
              "        })();\n",
              "      </script>\n",
              "    </div>\n",
              "\n",
              "    </div>\n",
              "  </div>\n"
            ],
            "application/vnd.google.colaboratory.intrinsic+json": {
              "type": "dataframe",
              "variable_name": "df"
            }
          },
          "metadata": {},
          "execution_count": 14
        }
      ]
    },
    {
      "cell_type": "markdown",
      "source": [
        "# **3. Data Splitting**\n",
        "Tahap Data Splitting bertujuan untuk memisahkan dataset menjadi dua bagian: data latih (training set) dan data uji (test set)."
      ],
      "metadata": {
        "id": "KkPem5eWL2UP"
      }
    },
    {
      "cell_type": "code",
      "source": [
        "# Menggunakan train_test_split() untuk melakukan pembagian dataset.\n",
        "\n",
        "X = df.drop('Target', axis=1)\n",
        "y = df['Target']\n",
        "\n",
        "X_train, X_test, y_train, y_test = train_test_split(X, y, test_size=0.20, random_state=42)\n",
        "\n",
        "print(f\"Ukuran X_train: {X_train.shape}\")\n",
        "print(f\"Ukuran X_test: {X_test.shape}\")\n",
        "print(f\"Ukuran y_train: {y_train.shape}\")\n",
        "print(f\"Ukuran y_test: {y_test.shape}\")"
      ],
      "metadata": {
        "id": "OubAW-7ONKVj",
        "colab": {
          "base_uri": "https://localhost:8080/"
        },
        "outputId": "977f31bd-8fc7-4e7d-da1e-2db42d7278ec"
      },
      "execution_count": 15,
      "outputs": [
        {
          "output_type": "stream",
          "name": "stdout",
          "text": [
            "Ukuran X_train: (1878, 62)\n",
            "Ukuran X_test: (470, 62)\n",
            "Ukuran y_train: (1878,)\n",
            "Ukuran y_test: (470,)\n"
          ]
        }
      ]
    },
    {
      "cell_type": "markdown",
      "source": [
        "# **4. Membangun Model Klasifikasi**\n",
        "Setelah memilih algoritma klasifikasi yang sesuai, langkah selanjutnya adalah melatih model menggunakan data latih.\n",
        "\n",
        "Berikut adalah rekomendasi tahapannya.\n",
        "1. Menggunakan algoritma klasifikasi yaitu Decision Tree.\n",
        "2. Latih model menggunakan data yang sudah dipisah."
      ],
      "metadata": {
        "id": "IVPbB03CMhTT"
      }
    },
    {
      "cell_type": "code",
      "source": [
        "# Buatlah model klasifikasi menggunakan Decision Tree\n",
        "model = DecisionTreeClassifier(random_state=42)\n",
        "\n",
        "# Latih model menggunakan data training\n",
        "model.fit(X_train, y_train)\n",
        "\n",
        "print(\"Model Decision Tree telah berhasil dilatih.\")"
      ],
      "metadata": {
        "id": "4JYxBe87NLDk",
        "colab": {
          "base_uri": "https://localhost:8080/"
        },
        "outputId": "82508a41-4691-433f-cdce-c53bc608f6b0"
      },
      "execution_count": 16,
      "outputs": [
        {
          "output_type": "stream",
          "name": "stdout",
          "text": [
            "Model Decision Tree telah berhasil dilatih.\n"
          ]
        }
      ]
    },
    {
      "cell_type": "code",
      "source": [
        "# Menyimpan Model\n",
        "# import joblib\n",
        "joblib.dump(model, 'decision_tree_model.h5')\n",
        "print(\"Model Decision Tree telah berhasil disimpan sebagai 'decision_tree_model.h5'.\")"
      ],
      "metadata": {
        "id": "P_AakAxghYv-",
        "colab": {
          "base_uri": "https://localhost:8080/"
        },
        "outputId": "8aad7701-b939-4c56-b9e7-0e439ad08846"
      },
      "execution_count": 17,
      "outputs": [
        {
          "output_type": "stream",
          "name": "stdout",
          "text": [
            "Model Decision Tree telah berhasil disimpan sebagai 'decision_tree_model.h5'.\n"
          ]
        }
      ]
    },
    {
      "cell_type": "markdown",
      "source": [
        "# **5. Memenuhi Kriteria Skilled dan Advanced dalam Membangun Model Klasifikasi**\n",
        "\n"
      ],
      "metadata": {
        "id": "epO4HhrzBXMg"
      }
    },
    {
      "cell_type": "markdown",
      "source": [
        "**Biarkan kosong jika tidak menerapkan kriteria skilled atau advanced**"
      ],
      "metadata": {
        "id": "DNOEZk24uiXu"
      }
    },
    {
      "cell_type": "code",
      "source": [
        "# Melatih model menggunakan algoritma klasifikasi selain Decision Tree.\n",
        "\n",
        "# Model 1: Decision Tree\n",
        "dt_model = model\n",
        "\n",
        "# Model 2: Random Forest Classifier\n",
        "rf_model = RandomForestClassifier(random_state=42)\n",
        "rf_model.fit(X_train, y_train)\n",
        "\n",
        "# Model 3: Gradient Boosting Classifier\n",
        "gb_model = GradientBoostingClassifier(random_state=42)\n",
        "gb_model.fit(X_train, y_train)\n",
        "\n",
        "print(\"Model Random Forest dan Gradient Boosting telah berhasil dilatih.\")"
      ],
      "metadata": {
        "id": "kB_8LIWMATl6",
        "colab": {
          "base_uri": "https://localhost:8080/"
        },
        "outputId": "335302a5-6361-4888-c6ec-8d5f06599bb9"
      },
      "execution_count": 18,
      "outputs": [
        {
          "output_type": "stream",
          "name": "stdout",
          "text": [
            "Model Random Forest dan Gradient Boosting telah berhasil dilatih.\n"
          ]
        }
      ]
    },
    {
      "cell_type": "code",
      "source": [
        "# Menampilkan hasil evaluasi akurasi, presisi, recall, dan F1-Score pada seluruh algoritma yang sudah dibuat.\n",
        "\n",
        "models = {\n",
        "    \"Decision Tree\": dt_model,\n",
        "    \"Random Forest\": rf_model,\n",
        "    \"Gradient Boosting\": gb_model\n",
        "}\n",
        "\n",
        "results = {}\n",
        "\n",
        "for name, model_obj in models.items():\n",
        "    y_pred = model_obj.predict(X_test)\n",
        "    accuracy = accuracy_score(y_test, y_pred)\n",
        "    precision = precision_score(y_test, y_pred, average='weighted', zero_division=0) # Gunakan 'weighted' untuk multi-class\n",
        "    recall = recall_score(y_test, y_pred, average='weighted', zero_division=0)\n",
        "    f1 = f1_score(y_test, y_pred, average='weighted', zero_division=0)\n",
        "\n",
        "    results[name] = {\n",
        "        \"Accuracy\": accuracy,\n",
        "        \"Precision\": precision,\n",
        "        \"Recall\": recall,\n",
        "        \"F1-Score\": f1\n",
        "    }\n",
        "\n",
        "    print(f\"--- Evaluasi Model: {name} ---\")\n",
        "    print(f\"Accuracy: {accuracy:.4f}\")\n",
        "    print(f\"Precision: {precision:.4f}\")\n",
        "    print(f\"Recall: {recall:.4f}\")\n",
        "    print(f\"F1-Score: {f1:.4f}\")\n",
        "    print(classification_report(y_test, y_pred, zero_division=0))\n",
        "    print(\"-\" * 30)\n",
        "\n",
        "# Menentukan model terbaik berdasarkan F1-Score\n",
        "best_model_name = \"\"\n",
        "best_f1_score = -1\n",
        "best_model = None\n",
        "\n",
        "for name, metrics in results.items():\n",
        "    if metrics[\"F1-Score\"] > best_f1_score:\n",
        "        best_f1_score = metrics[\"F1-Score\"]\n",
        "        best_model_name = name\n",
        "        best_model = models[name]\n",
        "\n",
        "print(f\"Model terbaik berdasarkan F1-Score adalah: {best_model_name} dengan F1-Score: {best_f1_score:.4f}\")"
      ],
      "metadata": {
        "id": "bRlKm5BVAT91",
        "colab": {
          "base_uri": "https://localhost:8080/"
        },
        "outputId": "2b4fbbb0-5e04-4158-a689-5977ea59565d"
      },
      "execution_count": 19,
      "outputs": [
        {
          "output_type": "stream",
          "name": "stdout",
          "text": [
            "--- Evaluasi Model: Decision Tree ---\n",
            "Accuracy: 0.9915\n",
            "Precision: 0.9915\n",
            "Recall: 0.9915\n",
            "F1-Score: 0.9915\n",
            "              precision    recall  f1-score   support\n",
            "\n",
            "           0       1.00      1.00      1.00        46\n",
            "           1       1.00      1.00      1.00        91\n",
            "           2       0.98      0.98      0.98        55\n",
            "           3       0.99      0.99      0.99        94\n",
            "           4       1.00      1.00      1.00        68\n",
            "           5       1.00      1.00      1.00        61\n",
            "           6       0.96      0.96      0.96        55\n",
            "\n",
            "    accuracy                           0.99       470\n",
            "   macro avg       0.99      0.99      0.99       470\n",
            "weighted avg       0.99      0.99      0.99       470\n",
            "\n",
            "------------------------------\n",
            "--- Evaluasi Model: Random Forest ---\n",
            "Accuracy: 0.9809\n",
            "Precision: 0.9813\n",
            "Recall: 0.9809\n",
            "F1-Score: 0.9804\n",
            "              precision    recall  f1-score   support\n",
            "\n",
            "           0       1.00      1.00      1.00        46\n",
            "           1       0.99      1.00      0.99        91\n",
            "           2       0.98      0.98      0.98        55\n",
            "           3       0.94      1.00      0.97        94\n",
            "           4       1.00      1.00      1.00        68\n",
            "           5       1.00      1.00      1.00        61\n",
            "           6       0.98      0.85      0.91        55\n",
            "\n",
            "    accuracy                           0.98       470\n",
            "   macro avg       0.98      0.98      0.98       470\n",
            "weighted avg       0.98      0.98      0.98       470\n",
            "\n",
            "------------------------------\n",
            "--- Evaluasi Model: Gradient Boosting ---\n",
            "Accuracy: 0.9915\n",
            "Precision: 0.9915\n",
            "Recall: 0.9915\n",
            "F1-Score: 0.9914\n",
            "              precision    recall  f1-score   support\n",
            "\n",
            "           0       1.00      1.00      1.00        46\n",
            "           1       1.00      1.00      1.00        91\n",
            "           2       0.98      0.98      0.98        55\n",
            "           3       0.98      1.00      0.99        94\n",
            "           4       1.00      1.00      1.00        68\n",
            "           5       1.00      1.00      1.00        61\n",
            "           6       0.98      0.95      0.96        55\n",
            "\n",
            "    accuracy                           0.99       470\n",
            "   macro avg       0.99      0.99      0.99       470\n",
            "weighted avg       0.99      0.99      0.99       470\n",
            "\n",
            "------------------------------\n",
            "Model terbaik berdasarkan F1-Score adalah: Decision Tree dengan F1-Score: 0.9915\n"
          ]
        }
      ]
    },
    {
      "cell_type": "code",
      "source": [
        "# Menyimpan Model Selain Decision Tree\n",
        "# Model ini bisa lebih dari satu\n",
        "# import joblib\n",
        "# joblib.dump(___, 'explore_<Nama Algoritma>_classification.h5')\n",
        "joblib.dump(best_model, f'explore_{best_model_name.replace(\" \", \"_\")}_classification.h5')\n",
        "print(f\"Model terbaik '{best_model_name}' telah disimpan sebagai 'explore_{best_model_name.replace(' ', '_')}_classification.h5'.\")"
      ],
      "metadata": {
        "id": "dUPItkbXBNkO",
        "colab": {
          "base_uri": "https://localhost:8080/"
        },
        "outputId": "66c40972-7146-4933-9fb2-cbd6c1bc3672"
      },
      "execution_count": 20,
      "outputs": [
        {
          "output_type": "stream",
          "name": "stdout",
          "text": [
            "Model terbaik 'Decision Tree' telah disimpan sebagai 'explore_Decision_Tree_classification.h5'.\n"
          ]
        }
      ]
    },
    {
      "cell_type": "markdown",
      "source": [
        "Hyperparameter Tuning Model\n",
        "\n",
        "Pilih salah satu algoritma yang ingin Anda tuning"
      ],
      "metadata": {
        "id": "u23H2guj-h9h"
      }
    },
    {
      "cell_type": "code",
      "source": [
        "# Lakukan Hyperparameter Tuning dan Latih ulang.\n",
        "# Bagian untuk Kriteria Advanced: Hyperparameter Tuning\n",
        "# Melakukan hyperparameter tuning pada model dengan hasil evaluasi paling kecil.\n",
        "\n",
        "# Mencari model dengan F1-Score terkecil\n",
        "worst_model_name = \"\"\n",
        "worst_f1_score = float('inf')\n",
        "worst_model_for_tuning = None\n",
        "\n",
        "for name, metrics in results.items():\n",
        "    if metrics[\"F1-Score\"] < worst_f1_score:\n",
        "        worst_f1_score = metrics[\"F1-Score\"]\n",
        "        worst_model_name = name\n",
        "        worst_model_for_tuning = models[name]\n",
        "\n",
        "print(f\"\\nModel yang akan dituning (F1-Score terkecil): {worst_model_name}\")\n",
        "\n",
        "# Mendefinisikan parameter grid untuk tuning\n",
        "param_grid = {}\n",
        "model_to_tune = None\n",
        "\n",
        "if worst_model_name == \"Decision Tree\":\n",
        "    param_grid = {\n",
        "        'max_depth': [None, 10, 20, 30],\n",
        "        'min_samples_leaf': [1, 5, 10],\n",
        "        'criterion': ['gini', 'entropy']\n",
        "    }\n",
        "    model_to_tune = DecisionTreeClassifier(random_state=42)\n",
        "elif worst_model_name == \"Random Forest\":\n",
        "    param_grid = {\n",
        "        'n_estimators': [50, 100, 200],\n",
        "        'max_depth': [None, 10, 20],\n",
        "        'min_samples_leaf': [1, 5],\n",
        "        'max_features': ['sqrt', 'log2']\n",
        "    }\n",
        "    model_to_tune = RandomForestClassifier(random_state=42)\n",
        "elif worst_model_name == \"Gradient Boosting\":\n",
        "    param_grid = {\n",
        "        'n_estimators': [50, 100, 200],\n",
        "        'learning_rate': [0.01, 0.1, 0.2],\n",
        "        'max_depth': [3, 5, 7]\n",
        "    }\n",
        "    model_to_tune = GradientBoostingClassifier(random_state=42)\n",
        "else:\n",
        "    print(\"Tidak ada model yang cocok untuk tuning berdasarkan nama model yang paling kecil.\")\n",
        "\n",
        "\n",
        "if model_to_tune is not None:\n",
        "    print(f\"Melakukan Hyperparameter Tuning untuk {worst_model_name}...\")\n",
        "    grid_search = GridSearchCV(estimator=model_to_tune, param_grid=param_grid, cv=3, n_jobs=-1, scoring='f1_weighted', verbose=1)\n",
        "    grid_search.fit(X_train, y_train)\n",
        "\n",
        "    best_tuned_model = grid_search.best_estimator_\n",
        "    print(f\"Parameter terbaik untuk {worst_model_name}: {grid_search.best_params_}\")"
      ],
      "metadata": {
        "id": "dFCTxJJq-m-l",
        "colab": {
          "base_uri": "https://localhost:8080/"
        },
        "outputId": "8fef0f63-895a-4c73-e971-82641773c618"
      },
      "execution_count": 21,
      "outputs": [
        {
          "output_type": "stream",
          "name": "stdout",
          "text": [
            "\n",
            "Model yang akan dituning (F1-Score terkecil): Random Forest\n",
            "Melakukan Hyperparameter Tuning untuk Random Forest...\n",
            "Fitting 3 folds for each of 36 candidates, totalling 108 fits\n",
            "Parameter terbaik untuk Random Forest: {'max_depth': None, 'max_features': 'sqrt', 'min_samples_leaf': 1, 'n_estimators': 200}\n"
          ]
        }
      ]
    },
    {
      "cell_type": "code",
      "source": [
        "# Menampilkan hasil evaluasi akurasi, presisi, recall, dan F1-Score pada algoritma yang sudah dituning.\n",
        "y_pred_tuned = best_tuned_model.predict(X_test)\n",
        "accuracy_tuned = accuracy_score(y_test, y_pred_tuned)\n",
        "precision_tuned = precision_score(y_test, y_pred_tuned, average='weighted', zero_division=0)\n",
        "recall_tuned = recall_score(y_test, y_pred_tuned, average='weighted', zero_division=0)\n",
        "f1_tuned = f1_score(y_test, y_pred_tuned, average='weighted', zero_division=0)\n",
        "\n",
        "print(f\"\\n--- Evaluasi Model {worst_model_name} Setelah Tuning ---\")\n",
        "print(f\"Accuracy: {accuracy_tuned:.4f}\")\n",
        "print(f\"Precision: {precision_tuned:.4f}\")\n",
        "print(f\"Recall: {recall_tuned:.4f}\")\n",
        "print(f\"F1-Score: {f1_tuned:.4f}\")\n",
        "print(classification_report(y_test, y_pred_tuned, zero_division=0))"
      ],
      "metadata": {
        "id": "1g6EPSSWxjcQ",
        "colab": {
          "base_uri": "https://localhost:8080/"
        },
        "outputId": "f053f969-32e5-4ba4-d98b-6a686227c0c1"
      },
      "execution_count": 22,
      "outputs": [
        {
          "output_type": "stream",
          "name": "stdout",
          "text": [
            "\n",
            "--- Evaluasi Model Random Forest Setelah Tuning ---\n",
            "Accuracy: 0.9830\n",
            "Precision: 0.9838\n",
            "Recall: 0.9830\n",
            "F1-Score: 0.9825\n",
            "              precision    recall  f1-score   support\n",
            "\n",
            "           0       1.00      1.00      1.00        46\n",
            "           1       0.99      1.00      0.99        91\n",
            "           2       0.98      1.00      0.99        55\n",
            "           3       0.94      1.00      0.97        94\n",
            "           4       1.00      1.00      1.00        68\n",
            "           5       1.00      1.00      1.00        61\n",
            "           6       1.00      0.85      0.92        55\n",
            "\n",
            "    accuracy                           0.98       470\n",
            "   macro avg       0.99      0.98      0.98       470\n",
            "weighted avg       0.98      0.98      0.98       470\n",
            "\n"
          ]
        }
      ]
    },
    {
      "cell_type": "code",
      "source": [
        "# Menyimpan Model hasil tuning\n",
        "joblib.dump(best_tuned_model, 'tuning_classification.h5')\n",
        "print(f\"Model hasil tuning '{worst_model_name}' telah disimpan sebagai 'tuning_classification.h5'.\")\n",
        "\n",
        "if model_to_tune is None:\n",
        "    print(\"Tuning tidak dilakukan karena model dengan evaluasi terkecil tidak dikenali atau tidak ada parameter grid yang ditentukan.\")"
      ],
      "metadata": {
        "id": "7UJNcVP--n7S",
        "colab": {
          "base_uri": "https://localhost:8080/"
        },
        "outputId": "a9924fb5-3cfe-42f1-cab8-04aea7f31518"
      },
      "execution_count": 23,
      "outputs": [
        {
          "output_type": "stream",
          "name": "stdout",
          "text": [
            "Model hasil tuning 'Random Forest' telah disimpan sebagai 'tuning_classification.h5'.\n"
          ]
        }
      ]
    }
  ]
}